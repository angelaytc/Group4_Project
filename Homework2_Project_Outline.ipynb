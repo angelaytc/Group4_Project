{
  "nbformat": 4,
  "nbformat_minor": 0,
  "metadata": {
    "colab": {
      "name": "CFG_Data2_Group4_Project.ipynb",
      "provenance": [],
      "collapsed_sections": []
    },
    "kernelspec": {
      "name": "python3",
      "display_name": "Python 3"
    },
    "language_info": {
      "name": "python"
    }
  },
  "cells": [
    {
      "cell_type": "markdown",
      "source": [
        "HOMEWORK WEEK2 \n",
        "\n",
        "This week’s homework will be purely Project based. You need to work as a group and the homework  will be submitted by one of the members of your group. List the other members of your group in the  document, so that your instructor can mark every student.  \n",
        "1. Your group needs to decide what kind of project you are going to work on and lock in your  decision.  \n",
        "2. You need to submit a free style paper that describes your project on a high level. Please  cover the following questions: \n",
        "\n",
        "#1.What kind of data research and analysis are you going to take on? \n",
        "\n",
        "\n",
        "Our Descriptive Analysis project explores the evolving commitments to sustainability by the sectors across the UK over a 20 year period (1999-2019). \n",
        "\n",
        "The key indicator for commitment is the time spent per sector on 'Green Tasks' in the UK labour force (including the occupational level of the labourers),  while the success indicator is the Environment, Social, and Governance (ESG) rating for the industries and their companies and stock prices of their leading companies. \n",
        "\n",
        "\n",
        "\n",
        "# 2. What industry or areas does it cover?\n",
        "\n",
        "This project covers the climate and environmental sector and reaches into many key industries, which our project will identify and rank in terms of sustainability commitment and success. \n",
        "\n",
        "\n",
        "# 3. What questions are you planning to answer? \n",
        "\n",
        "Our main question asks, \"How does the time spent on Green Tasks by different industries correlate with their contributions to GHG emissions between 1997-2019?\"\n",
        "\n",
        "Sub questions that fulfill the overall question include: \n",
        "- How does the occupational level and time spent on Green Tasks correlate to the success of an industry’s sustainability growth (ESG rating)\n",
        "- What are the ESG ratings of the best and worst performing companies in specific/key industries, and how does this relate to their industry’s overall ESG rating?\n",
        "- How does an industry’s ESG rating and time spent on Green Tasks correlate with the success of the sector in financial terms, such as by company stock history \n",
        "- How does this situate the UK in comparison to the global outlook?\n",
        "\n",
        "\n",
        "\n",
        "\n",
        "#4. What data sources are you planning to use? \n",
        "\n",
        "We will use:\n",
        "- time spent on Green Tasks by different industries \n",
        "https://www.ons.gov.uk/economy/environmentalaccounts/datasets/timespentongreentasks\n",
        "-  their contributions to GHG emissions between 1997-2019 \n",
        "https://www.ons.gov.uk/economy/environmentalaccounts/datasets/ukenvironmentalaccountsatmosphericemissionsgreenhousegasemissionsintensitybyeconomicsectorunitedkingdom\n",
        "- occupational level and time spent on Green Tasks \n",
        "https://www.ons.gov.uk/economy/environmentalaccounts/datasets/estimatedtimespentongreentasksbyoccupationcode\n",
        "- Global ESG ratings https://www.kaggle.com/datasets/tunguz/environment-social-and-governance-data\n",
        "- stock prices and ESG ratings of UK public companies (source tbc)\n",
        "\n",
        "\n",
        "#5. Describe the team approach to the project work: how are you planning to distribute the  workload, how are you managing your code, how are you planning to work on your project?\n",
        "\n",
        "The success of our project will be based on good communication. While we update each other through informal message on Slack as well as scheduled weekly team videocall meetings, we also manage and organise a scrumboard of our tasks and a shared drive of all documents, datasets and research references. \n",
        "\n",
        "In terms of coding, we will use Google Colab to co-write our programme. \n",
        "\n",
        "We plan to distrubute the individual tasks evenly to ensure we each experience and learn to a similar degree (such as sourcing research, datasets and writing small segments of code), while being open to assist each other, as we would in our collaborative tasks (such as grouping our research and code). "
      ],
      "metadata": {
        "id": "C3Hgg76ZP76P"
      }
    }
  ]
}